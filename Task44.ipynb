{
  "nbformat": 4,
  "nbformat_minor": 0,
  "metadata": {
    "colab": {
      "provenance": [],
      "authorship_tag": "ABX9TyMxsc3DJ6j1RKyZGl3XnN5L",
      "include_colab_link": true
    },
    "kernelspec": {
      "name": "python3",
      "display_name": "Python 3"
    },
    "language_info": {
      "name": "python"
    }
  },
  "cells": [
    {
      "cell_type": "markdown",
      "metadata": {
        "id": "view-in-github",
        "colab_type": "text"
      },
      "source": [
        "<a href=\"https://colab.research.google.com/github/MaryZhestkova/Examples/blob/main/Task44.ipynb\" target=\"_parent\"><img src=\"https://colab.research.google.com/assets/colab-badge.svg\" alt=\"Open In Colab\"/></a>"
      ]
    },
    {
      "cell_type": "code",
      "execution_count": 2,
      "metadata": {
        "id": "l_2O243LxwqX"
      },
      "outputs": [],
      "source": [
        "import pandas as pd\n"
      ]
    },
    {
      "cell_type": "code",
      "source": [
        "import random\n",
        "lst = ['robot'] * 10\n",
        "lst += ['human'] * 10\n",
        "random.shuffle(lst)\n",
        "\n",
        "data = pd.DataFrame({'whoAmI':lst})\n",
        "\n",
        "unique_values = data['whoAmI'].unique()\n",
        "\n",
        "for value in unique_values:\n",
        "    data[value] = 0\n",
        "\n",
        "for index, row in data.iterrows():\n",
        "    data.loc[index, row['whoAmI']] = 1\n",
        "\n",
        "data.drop('whoAmI', axis=1, inplace=True)\n",
        "\n",
        "print(data.head())"
      ],
      "metadata": {
        "colab": {
          "base_uri": "https://localhost:8080/"
        },
        "id": "xSeAEKEryJ6l",
        "outputId": "deb3ffcb-eef3-498f-dfb2-5b75500d6934"
      },
      "execution_count": 4,
      "outputs": [
        {
          "output_type": "stream",
          "name": "stdout",
          "text": [
            "   robot  human\n",
            "0      1      0\n",
            "1      0      1\n",
            "2      0      1\n",
            "3      0      1\n",
            "4      0      1\n"
          ]
        }
      ]
    }
  ]
}